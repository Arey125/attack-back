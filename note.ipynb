{
 "cells": [
  {
   "cell_type": "code",
   "execution_count": 15,
   "metadata": {},
   "outputs": [],
   "source": [
    "from hurst import compute_Hc, random_walk\n",
    "from nolds import dfa\n",
    "from random import random\n",
    "from statsmodels.tsa.stattools import adfuller"
   ]
  },
  {
   "cell_type": "code",
   "execution_count": 27,
   "metadata": {},
   "outputs": [],
   "source": [
    "def get_hurst(l: list):\n",
    "    return compute_Hc(l)[0]\n",
    "\n",
    "def get_hurst_list(l: list):\n",
    "    size = 300\n",
    "    return [get_hurst(l[pos:pos + size]) for pos in range(0,len(l),size)]"
   ]
  },
  {
   "cell_type": "code",
   "execution_count": 30,
   "metadata": {},
   "outputs": [],
   "source": [
    "l1 = [random() for _ in range(2000)]\n",
    "l2 = random_walk(2000)"
   ]
  },
  {
   "cell_type": "code",
   "execution_count": 32,
   "metadata": {},
   "outputs": [
    {
     "data": {
      "text/plain": [
       "[0.054758251096081095,\n",
       " 0.050412132169496686,\n",
       " 0.06358872880339339,\n",
       " 0.06186437057683448,\n",
       " 0.02637270730752923,\n",
       " 0.040522975755927414,\n",
       " 0.06811772279392833]"
      ]
     },
     "execution_count": 32,
     "metadata": {},
     "output_type": "execute_result"
    }
   ],
   "source": [
    "get_hurst_list(l1)"
   ]
  },
  {
   "cell_type": "code",
   "execution_count": 33,
   "metadata": {},
   "outputs": [
    {
     "data": {
      "text/plain": [
       "[0.5969033677906735,\n",
       " 0.6850594611493421,\n",
       " 0.5605784455819173,\n",
       " 0.5927849745010136,\n",
       " 0.6135148061104252,\n",
       " 0.33088356640042055,\n",
       " 0.6480634264881289]"
      ]
     },
     "execution_count": 33,
     "metadata": {},
     "output_type": "execute_result"
    }
   ],
   "source": [
    "get_hurst_list(l2)"
   ]
  },
  {
   "cell_type": "code",
   "execution_count": null,
   "metadata": {},
   "outputs": [],
   "source": []
  }
 ],
 "metadata": {
  "kernelspec": {
   "display_name": "Python 3",
   "language": "python",
   "name": "python3"
  },
  "language_info": {
   "codemirror_mode": {
    "name": "ipython",
    "version": 3
   },
   "file_extension": ".py",
   "mimetype": "text/x-python",
   "name": "python",
   "nbconvert_exporter": "python",
   "pygments_lexer": "ipython3",
   "version": "3.7.6"
  }
 },
 "nbformat": 4,
 "nbformat_minor": 4
}
